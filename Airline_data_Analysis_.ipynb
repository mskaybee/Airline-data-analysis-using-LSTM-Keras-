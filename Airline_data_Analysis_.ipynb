{
  "nbformat": 4,
  "nbformat_minor": 0,
  "metadata": {
    "colab": {
      "name": "Airline data  Analysis .ipynb",
      "provenance": [],
      "collapsed_sections": []
    },
    "kernelspec": {
      "name": "python3",
      "display_name": "Python 3"
    }
  },
  "cells": [
    {
      "cell_type": "code",
      "metadata": {
        "id": "Tsz8eTsgEod_",
        "colab_type": "code",
        "colab": {}
      },
      "source": [
        "import numpy as np\n",
        "import pandas as pd\n",
        "import seaborn as sns\n",
        "from pandas import read_excel,read_csv\n"
      ],
      "execution_count": 0,
      "outputs": []
    },
    {
      "cell_type": "code",
      "metadata": {
        "id": "EMqmAZtvFqOZ",
        "colab_type": "code",
        "colab": {}
      },
      "source": [
        "from sklearn import datasets, linear_model, preprocessing\n",
        "from sklearn.ensemble import RandomForestRegressor,GradientBoostingRegressor\n",
        "from sklearn.decomposition import PCA\n",
        "from sklearn.metrics import mean_squared_error, r2_score,mean_absolute_error\n",
        "import matplotlib.pyplot as plt"
      ],
      "execution_count": 0,
      "outputs": []
    },
    {
      "cell_type": "code",
      "metadata": {
        "id": "TQDJzkrKFvsm",
        "colab_type": "code",
        "outputId": "3ca48c49-39fc-471e-b6e7-9b8f782a1160",
        "colab": {
          "base_uri": "https://localhost:8080/",
          "height": 329
        }
      },
      "source": [
        "# Multilayer Perceptron to Predict International Airline Passengers (t+1, given t)\n",
        "import numpy\n",
        "import matplotlib.pyplot as plt\n",
        "import pandas\n",
        "import math\n",
        "from keras.models import Sequential\n",
        "from keras.layers import Dense\n",
        "# fix random seed for reproducibility\n",
        "numpy.random.seed(7)\n",
        "\n",
        "import pandas as pd\n",
        "from pandas import read_csv\n",
        "url = \"https://drive.google.com/uc?export=download&id=1LuMbumDB6Z9gaxwfsZGHhBquA2t2Qf1l\" \n",
        "\n",
        "#dataframe.head()\n",
        "dataframe=pandas.read_csv(url, usecols=[1] ,engine='python',skipfooter=3)\n",
        "dataset = dataframe.values \n",
        "dataset = dataset.astype('float32') \n",
        "\n",
        "plt.plot(dataset)\n",
        "plt.show()"
      ],
      "execution_count": 3,
      "outputs": [
        {
          "output_type": "stream",
          "text": [
            "Using TensorFlow backend.\n"
          ],
          "name": "stderr"
        },
        {
          "output_type": "display_data",
          "data": {
            "text/html": [
              "<p style=\"color: red;\">\n",
              "The default version of TensorFlow in Colab will soon switch to TensorFlow 2.x.<br>\n",
              "We recommend you <a href=\"https://www.tensorflow.org/guide/migrate\" target=\"_blank\">upgrade</a> now \n",
              "or ensure your notebook will continue to use TensorFlow 1.x via the <code>%tensorflow_version 1.x</code> magic:\n",
              "<a href=\"https://colab.research.google.com/notebooks/tensorflow_version.ipynb\" target=\"_blank\">more info</a>.</p>\n"
            ],
            "text/plain": [
              "<IPython.core.display.HTML object>"
            ]
          },
          "metadata": {
            "tags": []
          }
        },
        {
          "output_type": "display_data",
          "data": {
            "image/png": "[encoded data removed]",
            "text/plain": [
              "<Figure size 432x288 with 1 Axes>"
            ]
          },
          "metadata": {
            "tags": []
          }
        }
      ]
    },
    {
      "cell_type": "code",
      "metadata": {
        "id": "WpnoHjLyHYC3",
        "colab_type": "code",
        "colab": {}
      },
      "source": [
        "#dataframe"
      ],
      "execution_count": 0,
      "outputs": []
    },
    {
      "cell_type": "markdown",
      "metadata": {
        "id": "yFr0aVFdJVBz",
        "colab_type": "text"
      },
      "source": [
        "Lets plot a multi layer perceptron Model (MLP)"
      ]
    },
    {
      "cell_type": "markdown",
      "metadata": {
        "id": "1pPQj7TmN5yF",
        "colab_type": "text"
      },
      "source": [
        "####**Upload** the file from your local system when the code asks you to !!! "
      ]
    },
    {
      "cell_type": "code",
      "metadata": {
        "id": "t_2FWuyhJUvl",
        "colab_type": "code",
        "outputId": "e8529319-3405-4013-96c6-aa13d07bbdc4",
        "colab": {
          "base_uri": "https://localhost:8080/",
          "height": 35
        }
      },
      "source": [
        "# first, we split our data into train and validation\n",
        "train_size = int(len(dataset) * 0.67)\n",
        "test_size = len(dataset) - train_size\n",
        "train, test = dataset[0:train_size,:], dataset[train_size:len(dataset),:]\n",
        "print(len(train), len(test))\n",
        "# int(train)"
      ],
      "execution_count": 5,
      "outputs": [
        {
          "output_type": "stream",
          "text": [
            "95 48\n"
          ],
          "name": "stdout"
        }
      ]
    },
    {
      "cell_type": "markdown",
      "metadata": {
        "id": "tiUvvfS_8pKu",
        "colab_type": "text"
      },
      "source": [
        "Create lagged data sets for modelling"
      ]
    },
    {
      "cell_type": "code",
      "metadata": {
        "id": "qnf-CkEXMjdU",
        "colab_type": "code",
        "colab": {}
      },
      "source": [
        "# create a new dataset\n",
        "# convert an array of values into a dataset matrix\n",
        "def create_dataset(dataset, look_back=1):\n",
        "  dataX, dataY = [], []\n",
        "  for i in range(len(dataset)-look_back-1):\n",
        "    a = dataset[i:(i+look_back), 0]\n",
        "    dataX.append(a)\n",
        "    dataY.append(dataset[i + look_back, 0])\n",
        "  return numpy.array(dataX), numpy.array(dataY)"
      ],
      "execution_count": 0,
      "outputs": []
    },
    {
      "cell_type": "markdown",
      "metadata": {
        "id": "lTac8yIX8ymU",
        "colab_type": "text"
      },
      "source": [
        "Reshaping the data with a look back of time step"
      ]
    },
    {
      "cell_type": "code",
      "metadata": {
        "id": "olxd7QoxMucD",
        "colab_type": "code",
        "outputId": "bf5468fe-1556-4651-cf3e-d3d605d3d5fb",
        "colab": {
          "base_uri": "https://localhost:8080/",
          "height": 548
        }
      },
      "source": [
        "# reshape into X=t and Y=t+1\n",
        "look_back = 1\n",
        "trainX, trainY = create_dataset(train, look_back)\n",
        "testX, testY = create_dataset(test, look_back)\n",
        "# let's see how they compare\n",
        "print(train.shape)\n",
        "plt.plot(train, color=\"g\")\n",
        "plt.show()\n",
        "print(trainX.shape)\n",
        "plt.plot(trainX)\n",
        "plt.show()\n"
      ],
      "execution_count": 7,
      "outputs": [
        {
          "output_type": "stream",
          "text": [
            "(95, 1)\n"
          ],
          "name": "stdout"
        },
        {
          "output_type": "display_data",
          "data": {
            "image/png": "[encoded data removed]",
            "text/plain": [
              "<Figure size 432x288 with 1 Axes>"
            ]
          },
          "metadata": {
            "tags": []
          }
        },
        {
          "output_type": "stream",
          "text": [
            "(93, 1)\n"
          ],
          "name": "stdout"
        },
        {
          "output_type": "display_data",
          "data": {
            "image/png": "[encoded data removed]",
            "text/plain": [
              "<Figure size 432x288 with 1 Axes>"
            ]
          },
          "metadata": {
            "tags": []
          }
        }
      ]
    },
    {
      "cell_type": "markdown",
      "metadata": {
        "id": "wY2gsIOf9A5U",
        "colab_type": "text"
      },
      "source": [
        "Now we can fit our model, a MLP with 8 hidden units in one layer"
      ]
    },
    {
      "cell_type": "code",
      "metadata": {
        "id": "C-dg9yF5Mxn2",
        "colab_type": "code",
        "outputId": "40abb4ea-f969-422d-fe4f-163f8a7c6f5b",
        "colab": {
          "base_uri": "https://localhost:8080/",
          "height": 488
        }
      },
      "source": [
        "model = Sequential()\n",
        "model.add(Dense(8, input_dim=look_back, activation='relu'))\n",
        "model.add(Dense(1))\n",
        "model.compile(loss='mean_squared_error', optimizer='adam')\n",
        "model.fit(trainX, trainY, epochs=200, batch_size=2, verbose=0)\n",
        "# Estimate model performance\n",
        "trainScore = model.evaluate(trainX, trainY, verbose=0)\n",
        "print('Train Score: %.2f MSE (%.2f RMSE)' % (trainScore, math.sqrt(trainScore)))\n",
        "testScore = model.evaluate(testX, testY, verbose=0)\n",
        "print('Test Score: %.2f MSE (%.2f RMSE)' % (testScore, math.sqrt(testScore)))\n"
      ],
      "execution_count": 8,
      "outputs": [
        {
          "output_type": "stream",
          "text": [
            "WARNING:tensorflow:From /usr/local/lib/python3.6/dist-packages/keras/backend/tensorflow_backend.py:66: The name tf.get_default_graph is deprecated. Please use tf.compat.v1.get_default_graph instead.\n",
            "\n",
            "WARNING:tensorflow:From /usr/local/lib/python3.6/dist-packages/keras/backend/tensorflow_backend.py:541: The name tf.placeholder is deprecated. Please use tf.compat.v1.placeholder instead.\n",
            "\n",
            "WARNING:tensorflow:From /usr/local/lib/python3.6/dist-packages/keras/backend/tensorflow_backend.py:4432: The name tf.random_uniform is deprecated. Please use tf.random.uniform instead.\n",
            "\n",
            "WARNING:tensorflow:From /usr/local/lib/python3.6/dist-packages/keras/optimizers.py:793: The name tf.train.Optimizer is deprecated. Please use tf.compat.v1.train.Optimizer instead.\n",
            "\n",
            "WARNING:tensorflow:From /usr/local/lib/python3.6/dist-packages/keras/backend/tensorflow_backend.py:1033: The name tf.assign_add is deprecated. Please use tf.compat.v1.assign_add instead.\n",
            "\n",
            "WARNING:tensorflow:From /usr/local/lib/python3.6/dist-packages/keras/backend/tensorflow_backend.py:1020: The name tf.assign is deprecated. Please use tf.compat.v1.assign instead.\n",
            "\n",
            "WARNING:tensorflow:From /usr/local/lib/python3.6/dist-packages/keras/backend/tensorflow_backend.py:3005: The name tf.Session is deprecated. Please use tf.compat.v1.Session instead.\n",
            "\n",
            "WARNING:tensorflow:From /usr/local/lib/python3.6/dist-packages/keras/backend/tensorflow_backend.py:190: The name tf.get_default_session is deprecated. Please use tf.compat.v1.get_default_session instead.\n",
            "\n",
            "WARNING:tensorflow:From /usr/local/lib/python3.6/dist-packages/keras/backend/tensorflow_backend.py:197: The name tf.ConfigProto is deprecated. Please use tf.compat.v1.ConfigProto instead.\n",
            "\n",
            "WARNING:tensorflow:From /usr/local/lib/python3.6/dist-packages/keras/backend/tensorflow_backend.py:207: The name tf.global_variables is deprecated. Please use tf.compat.v1.global_variables instead.\n",
            "\n",
            "WARNING:tensorflow:From /usr/local/lib/python3.6/dist-packages/keras/backend/tensorflow_backend.py:216: The name tf.is_variable_initialized is deprecated. Please use tf.compat.v1.is_variable_initialized instead.\n",
            "\n",
            "WARNING:tensorflow:From /usr/local/lib/python3.6/dist-packages/keras/backend/tensorflow_backend.py:223: The name tf.variables_initializer is deprecated. Please use tf.compat.v1.variables_initializer instead.\n",
            "\n",
            "Train Score: 524.16 MSE (22.89 RMSE)\n",
            "Test Score: 2250.90 MSE (47.44 RMSE)\n"
          ],
          "name": "stdout"
        }
      ]
    },
    {
      "cell_type": "code",
      "metadata": {
        "id": "SfV4E1Ff9GF7",
        "colab_type": "code",
        "outputId": "643401b5-7647-452f-9a7d-99e7de50d6d1",
        "colab": {
          "base_uri": "https://localhost:8080/",
          "height": 265
        }
      },
      "source": [
        "# generate predictions for training\n",
        "trainPredict = model.predict(trainX)\n",
        "testPredict = model.predict(testX)\n",
        "# shift train predictions for plotting\n",
        "trainPredictPlot = numpy.empty_like(dataset)\n",
        "trainPredictPlot[:, :] = numpy.nan\n",
        "trainPredictPlot[look_back:len(trainPredict)+look_back, :] = trainPredict\n",
        "# shift test predictions for plotting\n",
        "testPredictPlot = numpy.empty_like(dataset)\n",
        "testPredictPlot[:, :] = numpy.nan\n",
        "testPredictPlot[len(trainPredict)+(look_back*2)+1:len(dataset)-1, :] = testPredict\n",
        "# plot baseline and predictions\n",
        "plt.plot(dataset)\n",
        "plt.plot(trainPredictPlot)\n",
        "plt.plot(testPredictPlot)\n",
        "plt.show()\n"
      ],
      "execution_count": 9,
      "outputs": [
        {
          "output_type": "display_data",
          "data": {
            "image/png": "[encoded data removed]",
            "text/plain": [
              "<Figure size 432x288 with 1 Axes>"
            ]
          },
          "metadata": {
            "tags": []
          }
        }
      ]
    },
    {
      "cell_type": "markdown",
      "metadata": {
        "id": "ba9QAHeZ9LmY",
        "colab_type": "text"
      },
      "source": [
        "This was our baseline model performance, this is what we need to beat:\n",
        "\n",
        "Train Score: 533.07 MSE (23.09 RMSE) Test Score: 2360.27 MSE (48.58 RMSE)"
      ]
    },
    {
      "cell_type": "markdown",
      "metadata": {
        "id": "FR25eF1V9ObE",
        "colab_type": "text"
      },
      "source": [
        "Lets plot a MLP with a Window and more layers"
      ]
    },
    {
      "cell_type": "code",
      "metadata": {
        "id": "wCQgVHlfM0pH",
        "colab_type": "code",
        "colab": {}
      },
      "source": [
        "# Multilayer Perceptron to Predict International Airline Passengers (t+1, given t, t-1, t-2)\n",
        "import numpy\n",
        "import matplotlib.pyplot as plt\n",
        "from pandas import read_csv\n",
        "import math\n",
        "from keras.models import Sequential\n",
        "from keras.layers import Dense\n",
        "# convert an array of values into a dataset matrix\n",
        "def create_dataset(dataset, look_back=1):\n",
        "  dataX, dataY = [], []\n",
        "  for i in range(len(dataset)-look_back-1):\n",
        "    a = dataset[i:(i+look_back), 0]\n",
        "    dataX.append(a)\n",
        "    dataY.append(dataset[i + look_back, 0])\n",
        "  return numpy.array(dataX), numpy.array(dataY)\n"
      ],
      "execution_count": 0,
      "outputs": []
    },
    {
      "cell_type": "code",
      "metadata": {
        "id": "vb7sFS1xNRIM",
        "colab_type": "code",
        "outputId": "46ad6bdb-63a0-40e3-a8de-d1eb445b673d",
        "colab": {
          "base_uri": "https://localhost:8080/",
          "height": 300
        }
      },
      "source": [
        "# fix random seed for reproducibility\n",
        "numpy.random.seed(7)\n",
        "# load the dataset\n",
        "#dataframe = read_csv('international-airline-passengers.csv', usecols=[1], engine='python',\n",
        "#skipfooter=3)\n",
        "#dataset = dataframe.values\n",
        "#dataset = dataset.astype('float32')\n",
        "# split into train and test sets\n",
        "train_size = int(len(dataset) * 0.67)\n",
        "test_size = len(dataset) - train_size\n",
        "train, test = dataset[0:train_size,:], dataset[train_size:len(dataset),:]\n",
        "# reshape dataset\n",
        "look_back = 8\n",
        "trainX, trainY = create_dataset(train, look_back)\n",
        "testX, testY = create_dataset(test, look_back)\n",
        "# create and fit Multilayer Perceptron model\n",
        "model = Sequential()\n",
        "model.add(Dense(16, input_dim=look_back, activation='relu'))\n",
        "model.add(Dense(8, activation='relu'))\n",
        "model.add(Dense(1))\n",
        "model.compile(loss='mean_squared_error', optimizer='adam')\n",
        "model.fit(trainX, trainY, epochs=400, batch_size=2, verbose=0)\n",
        "# Estimate model performance\n",
        "trainScore = model.evaluate(trainX, trainY, verbose=0)\n",
        "print('Train Score: %.2f MSE (%.2f RMSE)' % (trainScore, math.sqrt(trainScore)))\n",
        "testScore = model.evaluate(testX, testY, verbose=0)\n",
        "print('Test Score: %.2f MSE (%.2f RMSE)' % (testScore, math.sqrt(testScore)))\n",
        "# generate predictions for training\n",
        "trainPredict = model.predict(trainX)\n",
        "testPredict = model.predict(testX)\n",
        "# shift train predictions for plotting\n",
        "trainPredictPlot = numpy.empty_like(dataset)\n",
        "trainPredictPlot[:, :] = numpy.nan\n",
        "trainPredictPlot[look_back:len(trainPredict)+look_back, :] = trainPredict\n",
        "# shift test predictions for plotting\n",
        "testPredictPlot = numpy.empty_like(dataset)\n",
        "testPredictPlot[:, :] = numpy.nan\n",
        "testPredictPlot[len(trainPredict)+(look_back*2)+1:len(dataset)-1, :] = testPredict\n",
        "# plot baseline and predictions\n",
        "plt.plot(dataset)\n",
        "plt.plot(trainPredictPlot)\n",
        "plt.plot(testPredictPlot)\n",
        "plt.show()\n"
      ],
      "execution_count": 11,
      "outputs": [
        {
          "output_type": "stream",
          "text": [
            "Train Score: 252.40 MSE (15.89 RMSE)\n",
            "Test Score: 1275.32 MSE (35.71 RMSE)\n"
          ],
          "name": "stdout"
        },
        {
          "output_type": "display_data",
          "data": {
            "image/png": "[encoded data removed]",
            "text/plain": [
              "<Figure size 432x288 with 1 Axes>"
            ]
          },
          "metadata": {
            "tags": []
          }
        }
      ]
    },
    {
      "cell_type": "markdown",
      "metadata": {
        "id": "DBZ3J1hB9hNY",
        "colab_type": "text"
      },
      "source": [
        "Use of LSTM without so much feature engineering"
      ]
    },
    {
      "cell_type": "code",
      "metadata": {
        "id": "F3GDNJWbNZH0",
        "colab_type": "code",
        "outputId": "6dfb896c-e65a-41bf-b532-094d5b7e36db",
        "colab": {
          "base_uri": "https://localhost:8080/",
          "height": 372
        }
      },
      "source": [
        "# refresh our libraries\n",
        "# LSTM for international airline passengers problem with regression framing\n",
        "# LSTM for international airline passengers problem with regression framing\n",
        "import numpy\n",
        "import matplotlib.pyplot as plt\n",
        "from pandas import read_csv\n",
        "import math\n",
        "from keras.models import Sequential\n",
        "from keras.layers import Dense\n",
        "from keras.layers import LSTM\n",
        "from sklearn.preprocessing import MinMaxScaler\n",
        "from sklearn.metrics import mean_squared_error\n",
        "# convert an array of values into a dataset matrix\n",
        "def create_dataset(dataset, look_back=1):\n",
        "  dataX, dataY = [], []\n",
        "  for i in range(len(dataset)-look_back-1):\n",
        "    a = dataset[i:(i+look_back), 0]\n",
        "    dataX.append(a)\n",
        "    dataY.append(dataset[i + look_back, 0])\n",
        "  return numpy.array(dataX), numpy.array(dataY)\n",
        "# reference the data\n",
        "dataset = dataframe.values\n",
        "dataset = dataset.astype('float32')\n",
        "# normalize the dataset\n",
        "scaler = MinMaxScaler(feature_range=(0, 1))\n",
        "dataset = scaler.fit_transform(dataset)\n",
        "# split into train and test sets\n",
        "train_size = int(len(dataset) * 0.67)\n",
        "test_size = len(dataset) - train_size\n",
        "train, test = dataset[0:train_size,:], dataset[train_size:len(dataset),:]\n",
        "# reshape into X=t and Y=t+1\n",
        "look_back = 3\n",
        "trainX, trainY = create_dataset(train, look_back)\n",
        "testX, testY = create_dataset(test, look_back)\n",
        "# print(\"this is trainX before reshape:\" + str(trainX))\n",
        "# reshape input to be [samples, time steps, features]\n",
        "batch_size = 1\n",
        "trainX = numpy.reshape(trainX, (trainX.shape[0], trainX.shape[1], 1))\n",
        "testX = numpy.reshape(testX, (testX.shape[0], testX.shape[1], 1))\n",
        "\n",
        "# print(\"this is trainX AFTER reshape:\" + str(trainX))\n",
        "# create and fit the LSTM network\n",
        "\n",
        "model = Sequential()\n",
        "model.add(LSTM(8, batch_input_shape=(batch_size, look_back, 1), stateful=True,\n",
        "return_sequences=True))\n",
        "model.add(LSTM(4, batch_input_shape=(batch_size, look_back, 1), stateful=True))\n",
        "model.add(Dense(1))\n",
        "model.compile(loss='mean_squared_error', optimizer='adam')\n",
        "# need to use a for loop with \"stateful = T\"\n",
        "for i in range(100):\n",
        "  model.fit(trainX, trainY, epochs=1, batch_size=batch_size, verbose=0, shuffle=False)\n",
        "  model.reset_states()\n",
        "# make predictions\n",
        "trainPredict = model.predict(trainX, batch_size=batch_size)\n",
        "model.reset_states()\n",
        "testPredict = model.predict(testX, batch_size=batch_size)\n",
        "# invert predictions\n",
        "trainPredict = scaler.inverse_transform(trainPredict)\n",
        "trainY = scaler.inverse_transform([trainY])\n",
        "testPredict = scaler.inverse_transform(testPredict)\n",
        "testY = scaler.inverse_transform([testY])\n",
        "# calculate root mean squared error\n",
        "trainScore = math.sqrt(mean_squared_error(trainY[0], trainPredict[:,0]))\n",
        "print('Train Score: %.2f RMSE' % (trainScore))\n",
        "testScore = math.sqrt(mean_squared_error(testY[0], testPredict[:,0]))\n",
        "print('Test Score: %.2f RMSE' % (testScore))\n",
        "# shift train predictions for plotting\n",
        "trainPredictPlot = numpy.empty_like(dataset)\n",
        "trainPredictPlot[:, :] = numpy.nan\n",
        "trainPredictPlot[look_back:len(trainPredict)+look_back, :] = trainPredict\n",
        "# shift test predictions for plotting\n",
        "testPredictPlot = numpy.empty_like(dataset)\n",
        "testPredictPlot[:, :] = numpy.nan\n",
        "testPredictPlot[len(trainPredict)+(look_back*2)+1:len(dataset)-1, :] = testPredict\n",
        "# plot baseline and predictions\n",
        "plt.plot(scaler.inverse_transform(dataset))\n",
        "plt.plot(trainPredictPlot)\n",
        "plt.plot(testPredictPlot)\n",
        "plt.show()\n"
      ],
      "execution_count": 12,
      "outputs": [
        {
          "output_type": "stream",
          "text": [
            "WARNING:tensorflow:From /usr/local/lib/python3.6/dist-packages/tensorflow_core/python/ops/math_grad.py:1424: where (from tensorflow.python.ops.array_ops) is deprecated and will be removed in a future version.\n",
            "Instructions for updating:\n",
            "Use tf.where in 2.0, which has the same broadcast rule as np.where\n",
            "Train Score: 20.63 RMSE\n",
            "Test Score: 57.44 RMSE\n"
          ],
          "name": "stdout"
        },
        {
          "output_type": "display_data",
          "data": {
            "image/png": "[encoded data removed]",
            "text/plain": [
              "<Figure size 432x288 with 1 Axes>"
            ]
          },
          "metadata": {
            "tags": []
          }
        }
      ]
    },
    {
      "cell_type": "code",
      "metadata": {
        "id": "3eZLMuHz_AyG",
        "colab_type": "code",
        "outputId": "aeedceb0-9d70-46cf-eddf-057ee8571767",
        "colab": {
          "base_uri": "https://localhost:8080/",
          "height": 1000
        }
      },
      "source": [
        "trainX"
      ],
      "execution_count": 13,
      "outputs": [
        {
          "output_type": "execute_result",
          "data": {
            "text/plain": [
              "array([[[0.01544401],\n",
              "        [0.02702703],\n",
              "        [0.05405405]],\n",
              "\n",
              "       [[0.02702703],\n",
              "        [0.05405405],\n",
              "        [0.04826255]],\n",
              "\n",
              "       [[0.05405405],\n",
              "        [0.04826255],\n",
              "        [0.03281853]],\n",
              "\n",
              "       [[0.04826255],\n",
              "        [0.03281853],\n",
              "        [0.05984557]],\n",
              "\n",
              "       [[0.03281853],\n",
              "        [0.05984557],\n",
              "        [0.08494207]],\n",
              "\n",
              "       [[0.05984557],\n",
              "        [0.08494207],\n",
              "        [0.08494207]],\n",
              "\n",
              "       [[0.08494207],\n",
              "        [0.08494207],\n",
              "        [0.06177607]],\n",
              "\n",
              "       [[0.08494207],\n",
              "        [0.06177607],\n",
              "        [0.02895753]],\n",
              "\n",
              "       [[0.06177607],\n",
              "        [0.02895753],\n",
              "        [0.        ]],\n",
              "\n",
              "       [[0.02895753],\n",
              "        [0.        ],\n",
              "        [0.02702703]],\n",
              "\n",
              "       [[0.        ],\n",
              "        [0.02702703],\n",
              "        [0.02123553]],\n",
              "\n",
              "       [[0.02702703],\n",
              "        [0.02123553],\n",
              "        [0.04247104]],\n",
              "\n",
              "       [[0.02123553],\n",
              "        [0.04247104],\n",
              "        [0.07142857]],\n",
              "\n",
              "       [[0.04247104],\n",
              "        [0.07142857],\n",
              "        [0.05984557]],\n",
              "\n",
              "       [[0.07142857],\n",
              "        [0.05984557],\n",
              "        [0.04054055]],\n",
              "\n",
              "       [[0.05984557],\n",
              "        [0.04054055],\n",
              "        [0.08687258]],\n",
              "\n",
              "       [[0.04054055],\n",
              "        [0.08687258],\n",
              "        [0.12741312]],\n",
              "\n",
              "       [[0.08687258],\n",
              "        [0.12741312],\n",
              "        [0.12741312]],\n",
              "\n",
              "       [[0.12741312],\n",
              "        [0.12741312],\n",
              "        [0.10424709]],\n",
              "\n",
              "       [[0.12741312],\n",
              "        [0.10424709],\n",
              "        [0.05598456]],\n",
              "\n",
              "       [[0.10424709],\n",
              "        [0.05598456],\n",
              "        [0.01930502]],\n",
              "\n",
              "       [[0.05598456],\n",
              "        [0.01930502],\n",
              "        [0.06949806]],\n",
              "\n",
              "       [[0.01930502],\n",
              "        [0.06949806],\n",
              "        [0.07915059]],\n",
              "\n",
              "       [[0.06949806],\n",
              "        [0.07915059],\n",
              "        [0.08880308]],\n",
              "\n",
              "       [[0.07915059],\n",
              "        [0.08880308],\n",
              "        [0.14285713]],\n",
              "\n",
              "       [[0.08880308],\n",
              "        [0.14285713],\n",
              "        [0.11389962]],\n",
              "\n",
              "       [[0.14285713],\n",
              "        [0.11389962],\n",
              "        [0.13127413]],\n",
              "\n",
              "       [[0.11389962],\n",
              "        [0.13127413],\n",
              "        [0.14285713]],\n",
              "\n",
              "       [[0.13127413],\n",
              "        [0.14285713],\n",
              "        [0.18339768]],\n",
              "\n",
              "       [[0.14285713],\n",
              "        [0.18339768],\n",
              "        [0.18339768]],\n",
              "\n",
              "       [[0.18339768],\n",
              "        [0.18339768],\n",
              "        [0.15444016]],\n",
              "\n",
              "       [[0.18339768],\n",
              "        [0.15444016],\n",
              "        [0.11196911]],\n",
              "\n",
              "       [[0.15444016],\n",
              "        [0.11196911],\n",
              "        [0.08108109]],\n",
              "\n",
              "       [[0.11196911],\n",
              "        [0.08108109],\n",
              "        [0.1196911 ]],\n",
              "\n",
              "       [[0.08108109],\n",
              "        [0.1196911 ],\n",
              "        [0.12934363]],\n",
              "\n",
              "       [[0.1196911 ],\n",
              "        [0.12934363],\n",
              "        [0.14671814]],\n",
              "\n",
              "       [[0.12934363],\n",
              "        [0.14671814],\n",
              "        [0.17181468]],\n",
              "\n",
              "       [[0.14671814],\n",
              "        [0.17181468],\n",
              "        [0.14864865]],\n",
              "\n",
              "       [[0.17181468],\n",
              "        [0.14864865],\n",
              "        [0.15250966]],\n",
              "\n",
              "       [[0.14864865],\n",
              "        [0.15250966],\n",
              "        [0.22007722]],\n",
              "\n",
              "       [[0.15250966],\n",
              "        [0.22007722],\n",
              "        [0.24324325]],\n",
              "\n",
              "       [[0.22007722],\n",
              "        [0.24324325],\n",
              "        [0.26640925]],\n",
              "\n",
              "       [[0.24324325],\n",
              "        [0.26640925],\n",
              "        [0.2027027 ]],\n",
              "\n",
              "       [[0.26640925],\n",
              "        [0.2027027 ],\n",
              "        [0.16795367]],\n",
              "\n",
              "       [[0.2027027 ],\n",
              "        [0.16795367],\n",
              "        [0.13127413]],\n",
              "\n",
              "       [[0.16795367],\n",
              "        [0.13127413],\n",
              "        [0.17374519]],\n",
              "\n",
              "       [[0.13127413],\n",
              "        [0.17374519],\n",
              "        [0.17760617]],\n",
              "\n",
              "       [[0.17374519],\n",
              "        [0.17760617],\n",
              "        [0.17760617]],\n",
              "\n",
              "       [[0.17760617],\n",
              "        [0.17760617],\n",
              "        [0.25482625]],\n",
              "\n",
              "       [[0.17760617],\n",
              "        [0.25482625],\n",
              "        [0.25289574]],\n",
              "\n",
              "       [[0.25482625],\n",
              "        [0.25289574],\n",
              "        [0.24131274]],\n",
              "\n",
              "       [[0.25289574],\n",
              "        [0.24131274],\n",
              "        [0.26833975]],\n",
              "\n",
              "       [[0.24131274],\n",
              "        [0.26833975],\n",
              "        [0.3088803 ]],\n",
              "\n",
              "       [[0.26833975],\n",
              "        [0.3088803 ],\n",
              "        [0.32432434]],\n",
              "\n",
              "       [[0.3088803 ],\n",
              "        [0.32432434],\n",
              "        [0.25675675]],\n",
              "\n",
              "       [[0.32432434],\n",
              "        [0.25675675],\n",
              "        [0.20656371]],\n",
              "\n",
              "       [[0.25675675],\n",
              "        [0.20656371],\n",
              "        [0.14671814]],\n",
              "\n",
              "       [[0.20656371],\n",
              "        [0.14671814],\n",
              "        [0.18725869]],\n",
              "\n",
              "       [[0.14671814],\n",
              "        [0.18725869],\n",
              "        [0.19305018]],\n",
              "\n",
              "       [[0.18725869],\n",
              "        [0.19305018],\n",
              "        [0.16216215]],\n",
              "\n",
              "       [[0.19305018],\n",
              "        [0.16216215],\n",
              "        [0.25289574]],\n",
              "\n",
              "       [[0.16216215],\n",
              "        [0.25289574],\n",
              "        [0.23745173]],\n",
              "\n",
              "       [[0.25289574],\n",
              "        [0.23745173],\n",
              "        [0.25096524]],\n",
              "\n",
              "       [[0.23745173],\n",
              "        [0.25096524],\n",
              "        [0.3088803 ]],\n",
              "\n",
              "       [[0.25096524],\n",
              "        [0.3088803 ],\n",
              "        [0.38223937]],\n",
              "\n",
              "       [[0.3088803 ],\n",
              "        [0.38223937],\n",
              "        [0.36486486]],\n",
              "\n",
              "       [[0.38223937],\n",
              "        [0.36486486],\n",
              "        [0.2992278 ]],\n",
              "\n",
              "       [[0.36486486],\n",
              "        [0.2992278 ],\n",
              "        [0.24131274]],\n",
              "\n",
              "       [[0.2992278 ],\n",
              "        [0.24131274],\n",
              "        [0.1911197 ]],\n",
              "\n",
              "       [[0.24131274],\n",
              "        [0.1911197 ],\n",
              "        [0.24131274]],\n",
              "\n",
              "       [[0.1911197 ],\n",
              "        [0.24131274],\n",
              "        [0.26640925]],\n",
              "\n",
              "       [[0.24131274],\n",
              "        [0.26640925],\n",
              "        [0.24903473]],\n",
              "\n",
              "       [[0.26640925],\n",
              "        [0.24903473],\n",
              "        [0.31467178]],\n",
              "\n",
              "       [[0.24903473],\n",
              "        [0.31467178],\n",
              "        [0.3185328 ]],\n",
              "\n",
              "       [[0.31467178],\n",
              "        [0.3185328 ],\n",
              "        [0.32046333]],\n",
              "\n",
              "       [[0.3185328 ],\n",
              "        [0.32046333],\n",
              "        [0.4073359 ]],\n",
              "\n",
              "       [[0.32046333],\n",
              "        [0.4073359 ],\n",
              "        [0.5019305 ]],\n",
              "\n",
              "       [[0.4073359 ],\n",
              "        [0.5019305 ],\n",
              "        [0.46911195]],\n",
              "\n",
              "       [[0.5019305 ],\n",
              "        [0.46911195],\n",
              "        [0.40154442]],\n",
              "\n",
              "       [[0.46911195],\n",
              "        [0.40154442],\n",
              "        [0.32818535]],\n",
              "\n",
              "       [[0.40154442],\n",
              "        [0.32818535],\n",
              "        [0.25675675]],\n",
              "\n",
              "       [[0.32818535],\n",
              "        [0.25675675],\n",
              "        [0.3359073 ]],\n",
              "\n",
              "       [[0.25675675],\n",
              "        [0.3359073 ],\n",
              "        [0.34749034]],\n",
              "\n",
              "       [[0.3359073 ],\n",
              "        [0.34749034],\n",
              "        [0.33397684]],\n",
              "\n",
              "       [[0.34749034],\n",
              "        [0.33397684],\n",
              "        [0.41119692]],\n",
              "\n",
              "       [[0.33397684],\n",
              "        [0.41119692],\n",
              "        [0.4034749 ]],\n",
              "\n",
              "       [[0.41119692],\n",
              "        [0.4034749 ],\n",
              "        [0.4131274 ]],\n",
              "\n",
              "       [[0.4034749 ],\n",
              "        [0.4131274 ],\n",
              "        [0.52123547]],\n",
              "\n",
              "       [[0.4131274 ],\n",
              "        [0.52123547],\n",
              "        [0.5965251 ]],\n",
              "\n",
              "       [[0.52123547],\n",
              "        [0.5965251 ],\n",
              "        [0.58108103]],\n",
              "\n",
              "       [[0.5965251 ],\n",
              "        [0.58108103],\n",
              "        [0.484556  ]]], dtype=float32)"
            ]
          },
          "metadata": {
            "tags": []
          },
          "execution_count": 13
        }
      ]
    }
  ]
}